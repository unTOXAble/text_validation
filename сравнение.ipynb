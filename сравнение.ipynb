{
 "cells": [
  {
   "cell_type": "code",
   "execution_count": 9,
   "id": "9226c24e",
   "metadata": {},
   "outputs": [],
   "source": [
    "sentences = open('sentences.txt')\n",
    "sentences_list = list(sentences)"
   ]
  },
  {
   "cell_type": "code",
   "execution_count": 14,
   "id": "cd9120d6",
   "metadata": {},
   "outputs": [
    {
     "name": "stdout",
     "output_type": "stream",
     "text": [
      "['In comparison to dogs, cats have not undergone major changes during the domestication process.\\n', 'As cat simply catenates streams of bytes, it can be also used to concatenate binary files, where it will just concatenate sequence of bytes.\\n', 'A common interactive use of cat for a single file is to output the content of a file to standard output.\\n', 'Cats can hear sounds too faint or too high in frequency for human ears, such as those made by mice and other small animals.\\n', 'In one, people deliberately tamed cats in a process of artificial selection, as they were useful predators of vermin.\\n', 'The domesticated cat and its closest wild ancestor are both diploid organisms that possess 38 chromosomes and roughly 20,000 genes.\\n', 'Domestic cats are similar in size to the other members of the genus Felis, typically weighing between 4 and 5 kg (8.8 and 11.0 lb).\\n', 'However, if the output is piped or redirected, cat is unnecessary.\\n', 'cat with one named file is safer where human error is a concern - one wrong use of the default redirection symbol \">\" instead of \"<\" (often adjacent on keyboards) may permanently delete the file you were just needing to read.\\n', 'In terms of legibility, a sequence of commands starting with cat and connected by pipes has a clear left-to-right flow of information.\\n', 'Cat command is one of the basic commands that you learned when you started in the Unix / Linux world.\\n', 'Using cat command, the lines received from stdin can be redirected to a new file using redirection symbols.\\n', 'When you type simply cat command without any arguments, it just receives the stdin content and displays it in the stdout.\\n', 'Leopard was released on October 26, 2007 as the successor of Tiger (version 10.4), and is available in two editions.\\n', 'According to Apple, Leopard contains over 300 changes and enhancements over its predecessor, Mac OS X Tiger.\\n', 'As of Mid 2010, some Apple computers have firmware factory installed which will no longer allow installation of Mac OS X Leopard.\\n', 'Since Apple moved to using Intel processors in their computers, the OSx86 community has developed and now also allows Mac OS X Tiger and later releases to be installed on non-Apple x86-based computers.\\n', \"OS X Mountain Lion was released on July 25, 2012 for purchase and download through Apple's Mac App Store, as part of a switch to releasing OS X versions online and every year.\\n\", 'Apple has released a small patch for the three most recent versions of Safari running on OS X Yosemite, Mavericks, and Mountain Lion.\\n', 'The Mountain Lion release marks the second time Apple has offered an incremental upgrade, rather than releasing a new cat entirely.\\n', \"Mac OS X Mountain Lion installs in place, so you won't need to create a separate disk or run the installation off an external drive.\\n\", \"The fifth major update to Mac OS X, Leopard, contains such a mountain of features - more than 300 by Apple's count.\\n\"]\n"
     ]
    }
   ],
   "source": [
    "print(sentences_list)"
   ]
  },
  {
   "cell_type": "code",
   "execution_count": 45,
   "id": "45fbfc04",
   "metadata": {},
   "outputs": [
    {
     "name": "stdout",
     "output_type": "stream",
     "text": [
      "['in comparison to dogs, cats have not undergone major changes during the domestication process.\\n', 'as cat simply catenates streams of bytes, it can be also used to concatenate binary files, where it will just concatenate sequence of bytes.\\n', 'a common interactive use of cat for a single file is to output the content of a file to standard output.\\n', 'cats can hear sounds too faint or too high in frequency for human ears, such as those made by mice and other small animals.\\n', 'in one, people deliberately tamed cats in a process of artificial selection, as they were useful predators of vermin.\\n', 'the domesticated cat and its closest wild ancestor are both diploid organisms that possess 38 chromosomes and roughly 20,000 genes.\\n', 'domestic cats are similar in size to the other members of the genus felis, typically weighing between 4 and 5 kg (8.8 and 11.0 lb).\\n', 'however, if the output is piped or redirected, cat is unnecessary.\\n', 'cat with one named file is safer where human error is a concern - one wrong use of the default redirection symbol \">\" instead of \"<\" (often adjacent on keyboards) may permanently delete the file you were just needing to read.\\n', 'in terms of legibility, a sequence of commands starting with cat and connected by pipes has a clear left-to-right flow of information.\\n', 'cat command is one of the basic commands that you learned when you started in the unix / linux world.\\n', 'using cat command, the lines received from stdin can be redirected to a new file using redirection symbols.\\n', 'when you type simply cat command without any arguments, it just receives the stdin content and displays it in the stdout.\\n', 'leopard was released on october 26, 2007 as the successor of tiger (version 10.4), and is available in two editions.\\n', 'according to apple, leopard contains over 300 changes and enhancements over its predecessor, mac os x tiger.\\n', 'as of mid 2010, some apple computers have firmware factory installed which will no longer allow installation of mac os x leopard.\\n', 'since apple moved to using intel processors in their computers, the osx86 community has developed and now also allows mac os x tiger and later releases to be installed on non-apple x86-based computers.\\n', \"os x mountain lion was released on july 25, 2012 for purchase and download through apple's mac app store, as part of a switch to releasing os x versions online and every year.\\n\", 'apple has released a small patch for the three most recent versions of safari running on os x yosemite, mavericks, and mountain lion.\\n', 'the mountain lion release marks the second time apple has offered an incremental upgrade, rather than releasing a new cat entirely.\\n', \"mac os x mountain lion installs in place, so you won't need to create a separate disk or run the installation off an external drive.\\n\", \"the fifth major update to mac os x, leopard, contains such a mountain of features - more than 300 by apple's count.\\n\"]\n",
      "22\n"
     ]
    }
   ],
   "source": [
    "sentences_lower = []\n",
    "[sentences_lower.append(i.lower()) for i in sentences_list]\n",
    "print(sentences_lower)"
   ]
  },
  {
   "cell_type": "code",
   "execution_count": 35,
   "id": "db513141",
   "metadata": {},
   "outputs": [
    {
     "name": "stdout",
     "output_type": "stream",
     "text": [
      "[['in', 'comparison', 'to', 'dogs', '', 'cats', 'have', 'not', 'undergone', 'major', 'changes', 'during', 'the', 'domestication', 'process', '', ''], ['as', 'cat', 'simply', 'catenates', 'streams', 'of', 'bytes', '', 'it', 'can', 'be', 'also', 'used', 'to', 'concatenate', 'binary', 'files', '', 'where', 'it', 'will', 'just', 'concatenate', 'sequence', 'of', 'bytes', '', ''], ['a', 'common', 'interactive', 'use', 'of', 'cat', 'for', 'a', 'single', 'file', 'is', 'to', 'output', 'the', 'content', 'of', 'a', 'file', 'to', 'standard', 'output', '', ''], ['cats', 'can', 'hear', 'sounds', 'too', 'faint', 'or', 'too', 'high', 'in', 'frequency', 'for', 'human', 'ears', '', 'such', 'as', 'those', 'made', 'by', 'mice', 'and', 'other', 'small', 'animals', '', ''], ['in', 'one', '', 'people', 'deliberately', 'tamed', 'cats', 'in', 'a', 'process', 'of', 'artificial', 'selection', '', 'as', 'they', 'were', 'useful', 'predators', 'of', 'vermin', '', ''], ['the', 'domesticated', 'cat', 'and', 'its', 'closest', 'wild', 'ancestor', 'are', 'both', 'diploid', 'organisms', 'that', 'possess', '', '', '', 'chromosomes', 'and', 'roughly', '', '', '', '', '', '', '', 'genes', '', ''], ['domestic', 'cats', 'are', 'similar', 'in', 'size', 'to', 'the', 'other', 'members', 'of', 'the', 'genus', 'felis', '', 'typically', 'weighing', 'between', '', '', 'and', '', '', 'kg', '', '', '', '', '', 'and', '', '', '', '', '', 'lb', '', '', ''], ['however', '', 'if', 'the', 'output', 'is', 'piped', 'or', 'redirected', '', 'cat', 'is', 'unnecessary', '', ''], ['cat', 'with', 'one', 'named', 'file', 'is', 'safer', 'where', 'human', 'error', 'is', 'a', 'concern', '', '', 'one', 'wrong', 'use', 'of', 'the', 'default', 'redirection', 'symbol', '', '', '', '', 'instead', 'of', '', '', '', '', '', 'often', 'adjacent', 'on', 'keyboards', '', 'may', 'permanently', 'delete', 'the', 'file', 'you', 'were', 'just', 'needing', 'to', 'read', '', ''], ['in', 'terms', 'of', 'legibility', '', 'a', 'sequence', 'of', 'commands', 'starting', 'with', 'cat', 'and', 'connected', 'by', 'pipes', 'has', 'a', 'clear', 'left', 'to', 'right', 'flow', 'of', 'information', '', ''], ['cat', 'command', 'is', 'one', 'of', 'the', 'basic', 'commands', 'that', 'you', 'learned', 'when', 'you', 'started', 'in', 'the', 'unix', '', '', 'linux', 'world', '', ''], ['using', 'cat', 'command', '', 'the', 'lines', 'received', 'from', 'stdin', 'can', 'be', 'redirected', 'to', 'a', 'new', 'file', 'using', 'redirection', 'symbols', '', ''], ['when', 'you', 'type', 'simply', 'cat', 'command', 'without', 'any', 'arguments', '', 'it', 'just', 'receives', 'the', 'stdin', 'content', 'and', 'displays', 'it', 'in', 'the', 'stdout', '', ''], ['leopard', 'was', 'released', 'on', 'october', '', '', '', '', '', '', '', '', '', 'as', 'the', 'successor', 'of', 'tiger', '', 'version', '', '', '', '', '', '', '', 'and', 'is', 'available', 'in', 'two', 'editions', '', ''], ['according', 'to', 'apple', '', 'leopard', 'contains', 'over', '', '', '', '', 'changes', 'and', 'enhancements', 'over', 'its', 'predecessor', '', 'mac', 'os', 'x', 'tiger', '', ''], ['as', 'of', 'mid', '', '', '', '', '', '', 'some', 'apple', 'computers', 'have', 'firmware', 'factory', 'installed', 'which', 'will', 'no', 'longer', 'allow', 'installation', 'of', 'mac', 'os', 'x', 'leopard', '', ''], ['since', 'apple', 'moved', 'to', 'using', 'intel', 'processors', 'in', 'their', 'computers', '', 'the', 'osx', '', '', 'community', 'has', 'developed', 'and', 'now', 'also', 'allows', 'mac', 'os', 'x', 'tiger', 'and', 'later', 'releases', 'to', 'be', 'installed', 'on', 'non', 'apple', 'x', '', '', 'based', 'computers', '', ''], ['os', 'x', 'mountain', 'lion', 'was', 'released', 'on', 'july', '', '', '', '', '', '', '', '', '', 'for', 'purchase', 'and', 'download', 'through', 'apple', 's', 'mac', 'app', 'store', '', 'as', 'part', 'of', 'a', 'switch', 'to', 'releasing', 'os', 'x', 'versions', 'online', 'and', 'every', 'year', '', ''], ['apple', 'has', 'released', 'a', 'small', 'patch', 'for', 'the', 'three', 'most', 'recent', 'versions', 'of', 'safari', 'running', 'on', 'os', 'x', 'yosemite', '', 'mavericks', '', 'and', 'mountain', 'lion', '', ''], ['the', 'mountain', 'lion', 'release', 'marks', 'the', 'second', 'time', 'apple', 'has', 'offered', 'an', 'incremental', 'upgrade', '', 'rather', 'than', 'releasing', 'a', 'new', 'cat', 'entirely', '', ''], ['mac', 'os', 'x', 'mountain', 'lion', 'installs', 'in', 'place', '', 'so', 'you', 'won', 't', 'need', 'to', 'create', 'a', 'separate', 'disk', 'or', 'run', 'the', 'installation', 'off', 'an', 'external', 'drive', '', ''], ['the', 'fifth', 'major', 'update', 'to', 'mac', 'os', 'x', '', 'leopard', '', 'contains', 'such', 'a', 'mountain', 'of', 'features', '', '', 'more', 'than', '', '', '', '', 'by', 'apple', 's', 'count', '', '']]\n"
     ]
    }
   ],
   "source": [
    "import re\n",
    "sentences_tokens = []\n",
    "[sentences_tokens.append(re.split('[^a-z]', i)) for i in sentences_lower]\n",
    "print(sentences_tokens)"
   ]
  },
  {
   "cell_type": "code",
   "execution_count": 41,
   "id": "b0a2993e",
   "metadata": {},
   "outputs": [
    {
     "name": "stdout",
     "output_type": "stream",
     "text": [
      "[['in', 'comparison', 'to', 'dogs', 'cats', 'have', 'not', 'undergone', 'major', 'changes', 'during', 'the', 'domestication', 'process'], ['as', 'cat', 'simply', 'catenates', 'streams', 'of', 'bytes', 'it', 'can', 'be', 'also', 'used', 'to', 'concatenate', 'binary', 'files', 'where', 'it', 'will', 'just', 'concatenate', 'sequence', 'of', 'bytes'], ['a', 'common', 'interactive', 'use', 'of', 'cat', 'for', 'a', 'single', 'file', 'is', 'to', 'output', 'the', 'content', 'of', 'a', 'file', 'to', 'standard', 'output'], ['cats', 'can', 'hear', 'sounds', 'too', 'faint', 'or', 'too', 'high', 'in', 'frequency', 'for', 'human', 'ears', 'such', 'as', 'those', 'made', 'by', 'mice', 'and', 'other', 'small', 'animals'], ['in', 'one', 'people', 'deliberately', 'tamed', 'cats', 'in', 'a', 'process', 'of', 'artificial', 'selection', 'as', 'they', 'were', 'useful', 'predators', 'of', 'vermin'], ['the', 'domesticated', 'cat', 'and', 'its', 'closest', 'wild', 'ancestor', 'are', 'both', 'diploid', 'organisms', 'that', 'possess', 'chromosomes', 'and', 'roughly', 'genes'], ['domestic', 'cats', 'are', 'similar', 'in', 'size', 'to', 'the', 'other', 'members', 'of', 'the', 'genus', 'felis', 'typically', 'weighing', 'between', 'and', 'kg', 'and', 'lb'], ['however', 'if', 'the', 'output', 'is', 'piped', 'or', 'redirected', 'cat', 'is', 'unnecessary'], ['cat', 'with', 'one', 'named', 'file', 'is', 'safer', 'where', 'human', 'error', 'is', 'a', 'concern', 'one', 'wrong', 'use', 'of', 'the', 'default', 'redirection', 'symbol', 'instead', 'of', 'often', 'adjacent', 'on', 'keyboards', 'may', 'permanently', 'delete', 'the', 'file', 'you', 'were', 'just', 'needing', 'to', 'read'], ['in', 'terms', 'of', 'legibility', 'a', 'sequence', 'of', 'commands', 'starting', 'with', 'cat', 'and', 'connected', 'by', 'pipes', 'has', 'a', 'clear', 'left', 'to', 'right', 'flow', 'of', 'information'], ['cat', 'command', 'is', 'one', 'of', 'the', 'basic', 'commands', 'that', 'you', 'learned', 'when', 'you', 'started', 'in', 'the', 'unix', 'linux', 'world'], ['using', 'cat', 'command', 'the', 'lines', 'received', 'from', 'stdin', 'can', 'be', 'redirected', 'to', 'a', 'new', 'file', 'using', 'redirection', 'symbols'], ['when', 'you', 'type', 'simply', 'cat', 'command', 'without', 'any', 'arguments', 'it', 'just', 'receives', 'the', 'stdin', 'content', 'and', 'displays', 'it', 'in', 'the', 'stdout'], ['leopard', 'was', 'released', 'on', 'october', 'as', 'the', 'successor', 'of', 'tiger', 'version', 'and', 'is', 'available', 'in', 'two', 'editions'], ['according', 'to', 'apple', 'leopard', 'contains', 'over', 'changes', 'and', 'enhancements', 'over', 'its', 'predecessor', 'mac', 'os', 'x', 'tiger'], ['as', 'of', 'mid', 'some', 'apple', 'computers', 'have', 'firmware', 'factory', 'installed', 'which', 'will', 'no', 'longer', 'allow', 'installation', 'of', 'mac', 'os', 'x', 'leopard'], ['since', 'apple', 'moved', 'to', 'using', 'intel', 'processors', 'in', 'their', 'computers', 'the', 'osx', 'community', 'has', 'developed', 'and', 'now', 'also', 'allows', 'mac', 'os', 'x', 'tiger', 'and', 'later', 'releases', 'to', 'be', 'installed', 'on', 'non', 'apple', 'x', 'based', 'computers'], ['os', 'x', 'mountain', 'lion', 'was', 'released', 'on', 'july', 'for', 'purchase', 'and', 'download', 'through', 'apple', 's', 'mac', 'app', 'store', 'as', 'part', 'of', 'a', 'switch', 'to', 'releasing', 'os', 'x', 'versions', 'online', 'and', 'every', 'year'], ['apple', 'has', 'released', 'a', 'small', 'patch', 'for', 'the', 'three', 'most', 'recent', 'versions', 'of', 'safari', 'running', 'on', 'os', 'x', 'yosemite', 'mavericks', 'and', 'mountain', 'lion'], ['the', 'mountain', 'lion', 'release', 'marks', 'the', 'second', 'time', 'apple', 'has', 'offered', 'an', 'incremental', 'upgrade', 'rather', 'than', 'releasing', 'a', 'new', 'cat', 'entirely'], ['mac', 'os', 'x', 'mountain', 'lion', 'installs', 'in', 'place', 'so', 'you', 'won', 't', 'need', 'to', 'create', 'a', 'separate', 'disk', 'or', 'run', 'the', 'installation', 'off', 'an', 'external', 'drive'], ['the', 'fifth', 'major', 'update', 'to', 'mac', 'os', 'x', 'leopard', 'contains', 'such', 'a', 'mountain', 'of', 'features', 'more', 'than', 'by', 'apple', 's', 'count']]\n"
     ]
    }
   ],
   "source": [
    "tokens = []\n",
    "[tokens.append(list(filter(None, i))) for i in sentences_tokens]\n",
    "print(tokens)"
   ]
  },
  {
   "cell_type": "code",
   "execution_count": 58,
   "id": "702d1089",
   "metadata": {},
   "outputs": [
    {
     "name": "stdout",
     "output_type": "stream",
     "text": [
      "{0: 'in', 1: 'comparison', 2: 'to', 3: 'dogs', 4: 'cats', 5: 'have', 6: 'not', 7: 'undergone', 8: 'major', 9: 'changes', 10: 'during', 11: 'the', 12: 'domestication', 13: 'process', 14: 'as', 15: 'cat', 16: 'simply', 17: 'catenates', 18: 'streams', 19: 'of', 20: 'bytes', 21: 'it', 22: 'can', 23: 'be', 24: 'also', 25: 'used', 26: 'concatenate', 27: 'binary', 28: 'files', 29: 'where', 30: 'will', 31: 'just', 32: 'sequence', 33: 'a', 34: 'common', 35: 'interactive', 36: 'use', 37: 'for', 38: 'single', 39: 'file', 40: 'is', 41: 'output', 42: 'content', 43: 'standard', 44: 'hear', 45: 'sounds', 46: 'too', 47: 'faint', 48: 'or', 49: 'high', 50: 'frequency', 51: 'human', 52: 'ears', 53: 'such', 54: 'those', 55: 'made', 56: 'by', 57: 'mice', 58: 'and', 59: 'other', 60: 'small', 61: 'animals', 62: 'one', 63: 'people', 64: 'deliberately', 65: 'tamed', 66: 'artificial', 67: 'selection', 68: 'they', 69: 'were', 70: 'useful', 71: 'predators', 72: 'vermin', 73: 'domesticated', 74: 'its', 75: 'closest', 76: 'wild', 77: 'ancestor', 78: 'are', 79: 'both', 80: 'diploid', 81: 'organisms', 82: 'that', 83: 'possess', 84: 'chromosomes', 85: 'roughly', 86: 'genes', 87: 'domestic', 88: 'similar', 89: 'size', 90: 'members', 91: 'genus', 92: 'felis', 93: 'typically', 94: 'weighing', 95: 'between', 96: 'kg', 97: 'lb', 98: 'however', 99: 'if', 100: 'piped', 101: 'redirected', 102: 'unnecessary', 103: 'with', 104: 'named', 105: 'safer', 106: 'error', 107: 'concern', 108: 'wrong', 109: 'default', 110: 'redirection', 111: 'symbol', 112: 'instead', 113: 'often', 114: 'adjacent', 115: 'on', 116: 'keyboards', 117: 'may', 118: 'permanently', 119: 'delete', 120: 'you', 121: 'needing', 122: 'read', 123: 'terms', 124: 'legibility', 125: 'commands', 126: 'starting', 127: 'connected', 128: 'pipes', 129: 'has', 130: 'clear', 131: 'left', 132: 'right', 133: 'flow', 134: 'information', 135: 'command', 136: 'basic', 137: 'learned', 138: 'when', 139: 'started', 140: 'unix', 141: 'linux', 142: 'world', 143: 'using', 144: 'lines', 145: 'received', 146: 'from', 147: 'stdin', 148: 'new', 149: 'symbols', 150: 'type', 151: 'without', 152: 'any', 153: 'arguments', 154: 'receives', 155: 'displays', 156: 'stdout', 157: 'leopard', 158: 'was', 159: 'released', 160: 'october', 161: 'successor', 162: 'tiger', 163: 'version', 164: 'available', 165: 'two', 166: 'editions', 167: 'according', 168: 'apple', 169: 'contains', 170: 'over', 171: 'enhancements', 172: 'predecessor', 173: 'mac', 174: 'os', 175: 'x', 176: 'mid', 177: 'some', 178: 'computers', 179: 'firmware', 180: 'factory', 181: 'installed', 182: 'which', 183: 'no', 184: 'longer', 185: 'allow', 186: 'installation', 187: 'since', 188: 'moved', 189: 'intel', 190: 'processors', 191: 'their', 192: 'osx', 193: 'community', 194: 'developed', 195: 'now', 196: 'allows', 197: 'later', 198: 'releases', 199: 'non', 200: 'based', 201: 'mountain', 202: 'lion', 203: 'july', 204: 'purchase', 205: 'download', 206: 'through', 207: 's', 208: 'app', 209: 'store', 210: 'part', 211: 'switch', 212: 'releasing', 213: 'versions', 214: 'online', 215: 'every', 216: 'year', 217: 'patch', 218: 'three', 219: 'most', 220: 'recent', 221: 'safari', 222: 'running', 223: 'yosemite', 224: 'mavericks', 225: 'release', 226: 'marks', 227: 'second', 228: 'time', 229: 'offered', 230: 'an', 231: 'incremental', 232: 'upgrade', 233: 'rather', 234: 'than', 235: 'entirely', 236: 'installs', 237: 'place', 238: 'so', 239: 'won', 240: 't', 241: 'need', 242: 'create', 243: 'separate', 244: 'disk', 245: 'run', 246: 'off', 247: 'external', 248: 'drive', 249: 'fifth', 250: 'update', 251: 'features', 252: 'more', 253: 'count'}\n"
     ]
    }
   ],
   "source": [
    "dictionary = {}\n",
    "i = 0\n",
    "for sentences in tokens:\n",
    "    for word in sentences:\n",
    "        if (word in dictionary.values()) == False:\n",
    "            dictionary[i] = word\n",
    "            i += 1\n",
    "print(dictionary) \n"
   ]
  },
  {
   "cell_type": "code",
   "execution_count": 70,
   "id": "af1bc198",
   "metadata": {},
   "outputs": [],
   "source": [
    "import numpy as np"
   ]
  },
  {
   "cell_type": "code",
   "execution_count": 71,
   "id": "ca9d99b1",
   "metadata": {},
   "outputs": [],
   "source": [
    "matrix = []\n",
    "for sent in tokens:\n",
    "    vector = []\n",
    "    for i in range(len(dictionary)):       \n",
    "        word = dictionary[i]\n",
    "        vector.append(sent.count(word))\n",
    "    matrix.append(vector)\n",
    "arr = np.array(matrix)"
   ]
  },
  {
   "cell_type": "code",
   "execution_count": 82,
   "id": "a519928c",
   "metadata": {},
   "outputs": [
    {
     "name": "stdout",
     "output_type": "stream",
     "text": [
      "(22, 254)\n",
      "[[1 1 1 ... 0 0 0]\n",
      " [0 0 1 ... 0 0 0]\n",
      " [0 0 2 ... 0 0 0]\n",
      " ...\n",
      " [0 0 0 ... 0 0 0]\n",
      " [1 0 1 ... 0 0 0]\n",
      " [0 0 1 ... 1 1 1]]\n"
     ]
    }
   ],
   "source": [
    "print(arr.shape)\n",
    "print(arr)\n"
   ]
  },
  {
   "cell_type": "code",
   "execution_count": 85,
   "id": "35c6d1ba",
   "metadata": {},
   "outputs": [],
   "source": [
    "from scipy.spatial.distance import cosine"
   ]
  },
  {
   "cell_type": "code",
   "execution_count": 103,
   "id": "f2942c0a",
   "metadata": {},
   "outputs": [
    {
     "name": "stdout",
     "output_type": "stream",
     "text": [
      "[0.0, 0.9527544408738466, 0.8644738145642124, 0.8951715163278082, 0.7770887149698589, 0.9402385695332803, 0.7327387580875756, 0.9258750683338899, 0.8842724875284311, 0.9055088817476932, 0.8328165362273942, 0.8804771390665607, 0.8396432548525454, 0.8703592552895671, 0.8740118423302576, 0.9442721787424647, 0.8406361854220809, 0.956644501523794, 0.9442721787424647, 0.8885443574849294, 0.8427572744917122, 0.8250364469440588]\n"
     ]
    }
   ],
   "source": [
    "distance = []\n",
    "[distance.append(cosine(arr[0], i)) for i in arr]\n",
    "print(distance)"
   ]
  },
  {
   "cell_type": "code",
   "execution_count": 104,
   "id": "6a36e242",
   "metadata": {},
   "outputs": [],
   "source": [
    "import pandas as pd"
   ]
  },
  {
   "cell_type": "code",
   "execution_count": 109,
   "id": "c6278fdf",
   "metadata": {},
   "outputs": [],
   "source": [
    "table = pd.DataFrame({'distance': distance})"
   ]
  },
  {
   "cell_type": "code",
   "execution_count": 113,
   "id": "a2ea29af",
   "metadata": {},
   "outputs": [
    {
     "data": {
      "text/html": [
       "<div>\n",
       "<style scoped>\n",
       "    .dataframe tbody tr th:only-of-type {\n",
       "        vertical-align: middle;\n",
       "    }\n",
       "\n",
       "    .dataframe tbody tr th {\n",
       "        vertical-align: top;\n",
       "    }\n",
       "\n",
       "    .dataframe thead th {\n",
       "        text-align: right;\n",
       "    }\n",
       "</style>\n",
       "<table border=\"1\" class=\"dataframe\">\n",
       "  <thead>\n",
       "    <tr style=\"text-align: right;\">\n",
       "      <th></th>\n",
       "      <th>distance</th>\n",
       "    </tr>\n",
       "  </thead>\n",
       "  <tbody>\n",
       "    <tr>\n",
       "      <th>0</th>\n",
       "      <td>0.000000</td>\n",
       "    </tr>\n",
       "    <tr>\n",
       "      <th>6</th>\n",
       "      <td>0.732739</td>\n",
       "    </tr>\n",
       "    <tr>\n",
       "      <th>4</th>\n",
       "      <td>0.777089</td>\n",
       "    </tr>\n",
       "    <tr>\n",
       "      <th>21</th>\n",
       "      <td>0.825036</td>\n",
       "    </tr>\n",
       "    <tr>\n",
       "      <th>10</th>\n",
       "      <td>0.832817</td>\n",
       "    </tr>\n",
       "    <tr>\n",
       "      <th>12</th>\n",
       "      <td>0.839643</td>\n",
       "    </tr>\n",
       "    <tr>\n",
       "      <th>16</th>\n",
       "      <td>0.840636</td>\n",
       "    </tr>\n",
       "    <tr>\n",
       "      <th>20</th>\n",
       "      <td>0.842757</td>\n",
       "    </tr>\n",
       "    <tr>\n",
       "      <th>2</th>\n",
       "      <td>0.864474</td>\n",
       "    </tr>\n",
       "    <tr>\n",
       "      <th>13</th>\n",
       "      <td>0.870359</td>\n",
       "    </tr>\n",
       "    <tr>\n",
       "      <th>14</th>\n",
       "      <td>0.874012</td>\n",
       "    </tr>\n",
       "    <tr>\n",
       "      <th>11</th>\n",
       "      <td>0.880477</td>\n",
       "    </tr>\n",
       "    <tr>\n",
       "      <th>8</th>\n",
       "      <td>0.884272</td>\n",
       "    </tr>\n",
       "    <tr>\n",
       "      <th>19</th>\n",
       "      <td>0.888544</td>\n",
       "    </tr>\n",
       "    <tr>\n",
       "      <th>3</th>\n",
       "      <td>0.895172</td>\n",
       "    </tr>\n",
       "    <tr>\n",
       "      <th>9</th>\n",
       "      <td>0.905509</td>\n",
       "    </tr>\n",
       "    <tr>\n",
       "      <th>7</th>\n",
       "      <td>0.925875</td>\n",
       "    </tr>\n",
       "    <tr>\n",
       "      <th>5</th>\n",
       "      <td>0.940239</td>\n",
       "    </tr>\n",
       "    <tr>\n",
       "      <th>15</th>\n",
       "      <td>0.944272</td>\n",
       "    </tr>\n",
       "    <tr>\n",
       "      <th>18</th>\n",
       "      <td>0.944272</td>\n",
       "    </tr>\n",
       "    <tr>\n",
       "      <th>1</th>\n",
       "      <td>0.952754</td>\n",
       "    </tr>\n",
       "    <tr>\n",
       "      <th>17</th>\n",
       "      <td>0.956645</td>\n",
       "    </tr>\n",
       "  </tbody>\n",
       "</table>\n",
       "</div>"
      ],
      "text/plain": [
       "    distance\n",
       "0   0.000000\n",
       "6   0.732739\n",
       "4   0.777089\n",
       "21  0.825036\n",
       "10  0.832817\n",
       "12  0.839643\n",
       "16  0.840636\n",
       "20  0.842757\n",
       "2   0.864474\n",
       "13  0.870359\n",
       "14  0.874012\n",
       "11  0.880477\n",
       "8   0.884272\n",
       "19  0.888544\n",
       "3   0.895172\n",
       "9   0.905509\n",
       "7   0.925875\n",
       "5   0.940239\n",
       "15  0.944272\n",
       "18  0.944272\n",
       "1   0.952754\n",
       "17  0.956645"
      ]
     },
     "execution_count": 113,
     "metadata": {},
     "output_type": "execute_result"
    }
   ],
   "source": [
    "table.sort_values(by='distance')"
   ]
  },
  {
   "cell_type": "code",
   "execution_count": null,
   "id": "f3a9783b",
   "metadata": {},
   "outputs": [],
   "source": []
  }
 ],
 "metadata": {
  "kernelspec": {
   "display_name": "Python 3",
   "language": "python",
   "name": "python3"
  },
  "language_info": {
   "codemirror_mode": {
    "name": "ipython",
    "version": 3
   },
   "file_extension": ".py",
   "mimetype": "text/x-python",
   "name": "python",
   "nbconvert_exporter": "python",
   "pygments_lexer": "ipython3",
   "version": "3.8.8"
  }
 },
 "nbformat": 4,
 "nbformat_minor": 5
}
